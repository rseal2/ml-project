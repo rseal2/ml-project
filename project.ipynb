{
 "cells": [
  {
   "cell_type": "code",
   "execution_count": 1,
   "metadata": {},
   "outputs": [],
   "source": [
    "import pandas as pd\n",
    "import matplotlib.pyplot as plt\n",
    "import numpy as np"
   ]
  },
  {
   "cell_type": "code",
   "execution_count": 2,
   "metadata": {},
   "outputs": [
    {
     "name": "stderr",
     "output_type": "stream",
     "text": [
      "C:\\Users\\raims\\AppData\\Local\\Temp\\ipykernel_20492\\3142806962.py:1: DtypeWarning: Columns (7,13,14,18,20,26,27,30) have mixed types. Specify dtype option on import or set low_memory=False.\n",
      "  data = pd.read_csv('./ms_annual_data_2022.csv')\n"
     ]
    }
   ],
   "source": [
    "data = pd.read_csv('./ms_annual_data_2022.csv')\n",
    "\n",
    "# filter data\n",
    "data = data.dropna()\n",
    "# have to reset the index after dropping the null rows or else next cell will error\n",
    "data = data.reset_index(drop=True)"
   ]
  },
  {
   "cell_type": "code",
   "execution_count": 3,
   "metadata": {},
   "outputs": [],
   "source": [
    "def clean_monetary_value(data):\n",
    "    if isinstance(data, str):\n",
    "        cleaned_data = data.replace('$', '').strip()\n",
    "        cleaned_data = clean_string_with_comma(cleaned_data)\n",
    "        return float(cleaned_data)\n",
    "    return data\n",
    "    \n",
    "def clean_string_with_comma(data):\n",
    "    if isinstance(data, str):\n",
    "        cleaned_data = data.replace(',', '')\n",
    "        return float(cleaned_data)\n",
    "    return data\n",
    "\n",
    "def clean_percentage(data):\n",
    "    if isinstance(data, str):\n",
    "        return float(data.strip('%'))\n",
    "    return data"
   ]
  }
 ],
 "metadata": {
  "kernelspec": {
   "display_name": "Python 3",
   "language": "python",
   "name": "python3"
  },
  "language_info": {
   "codemirror_mode": {
    "name": "ipython",
    "version": 3
   },
   "file_extension": ".py",
   "mimetype": "text/x-python",
   "name": "python",
   "nbconvert_exporter": "python",
   "pygments_lexer": "ipython3",
   "version": "3.12.2"
  }
 },
 "nbformat": 4,
 "nbformat_minor": 2
}
